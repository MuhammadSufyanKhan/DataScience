{
  "nbformat": 4,
  "nbformat_minor": 0,
  "metadata": {
    "colab": {
      "provenance": []
    },
    "kernelspec": {
      "name": "python3",
      "display_name": "Python 3"
    },
    "language_info": {
      "name": "python"
    }
  },
  "cells": [
    {
      "cell_type": "markdown",
      "source": [
        "#### Importing Necessary Libraries"
      ],
      "metadata": {
        "id": "1oU4p-ea503v"
      }
    },
    {
      "cell_type": "code",
      "source": [],
      "metadata": {
        "id": "RpgbqzbKANWW"
      },
      "execution_count": null,
      "outputs": []
    },
    {
      "cell_type": "code",
      "execution_count": null,
      "metadata": {
        "id": "IJVwE9u60ITJ"
      },
      "outputs": [],
      "source": [
        "#loading need libraries\n",
        "import numpy as np\n",
        "import seaborn as sns\n",
        "import pandas as pd\n",
        "import matplotlib.pyplot as plt\n",
        "from scipy import stats"
      ]
    },
    {
      "cell_type": "markdown",
      "source": [
        "#### Loading Dataset"
      ],
      "metadata": {
        "id": "YzsAfdAj57Tt"
      }
    },
    {
      "cell_type": "code",
      "source": [
        "train = pd.read_csv('/content/train.csv')\n",
        "train"
      ],
      "metadata": {
        "id": "kzM3_yti0qG5"
      },
      "execution_count": null,
      "outputs": []
    },
    {
      "cell_type": "code",
      "source": [
        "train.head()\n"
      ],
      "metadata": {
        "id": "j964CQuf0vWA"
      },
      "execution_count": null,
      "outputs": []
    },
    {
      "cell_type": "code",
      "source": [
        "#shape of train data\n",
        "train.shape"
      ],
      "metadata": {
        "id": "NAvLTedV0wzV"
      },
      "execution_count": null,
      "outputs": []
    },
    {
      "cell_type": "code",
      "source": [
        "#you can also check the data set information using the info() command.\n",
        "train.info()\n",
        "drop_col = ['Alley','PoolQC','Fence','MiscFeature']"
      ],
      "metadata": {
        "id": "Ix1XaXuU0zxJ"
      },
      "execution_count": null,
      "outputs": []
    },
    {
      "cell_type": "markdown",
      "source": [
        "#### Distribution of Target Variable\n",
        "A \"dist plot\" typically refers to a distribution plot, which is a graphical representation of the distribution of a dataset. It helps you understand the underlying probability distribution of the data, providing insights into the central tendency, spread, and shape of the data."
      ],
      "metadata": {
        "id": "1zOARXCH1T7_"
      }
    },
    {
      "cell_type": "code",
      "source": [
        "from scipy import stats\n",
        "\n",
        "plt.subplots(figsize=(12,9))\n",
        "sns.distplot(train['SalePrice'], fit=stats.norm)\n",
        "\n",
        "(mu, sigma) = stats.norm.fit(train['SalePrice'])\n",
        "\n",
        "# plot with the distribution\n",
        "plt.legend(['Normal dist. ($\\mu=$ {:.2f} and $\\sigma=$ {:.2f} )'.format(mu, sigma)], loc='best')\n",
        "plt.ylabel('Frequency')"
      ],
      "metadata": {
        "id": "iIzmgtWl01hj"
      },
      "execution_count": null,
      "outputs": []
    },
    {
      "cell_type": "markdown",
      "source": [
        "##### This target varibale is right skewed. Now, we need to tranform this variable and make it normal distribution."
      ],
      "metadata": {
        "id": "R4Bw_1hz2a63"
      }
    },
    {
      "cell_type": "code",
      "source": [
        "#we use log function which is in numpy\n",
        "train['SalePrice'] = np.log1p(train['SalePrice'])\n",
        "\n",
        "#Check again for more normal distribution\n",
        "plt.subplots(figsize=(12,9))\n",
        "sns.distplot(train['SalePrice'], fit=stats.norm)\n",
        "\n",
        "# Get the fitted parameters used by the function\n",
        "(mu, sigma) = stats.norm.fit(train['SalePrice'])\n",
        "\n",
        "# plot with the distribution\n",
        "plt.legend(['Normal dist. ($\\mu=$ {:.2f} and $\\sigma=$ {:.2f} )'.format(mu, sigma)], loc='best')\n",
        "plt.ylabel('Frequency')"
      ],
      "metadata": {
        "id": "QUuxbLdv08fz"
      },
      "execution_count": null,
      "outputs": []
    },
    {
      "cell_type": "markdown",
      "source": [
        "##### Detecting Missing Values"
      ],
      "metadata": {
        "id": "nTnfH3zd2vV4"
      }
    },
    {
      "cell_type": "code",
      "source": [
        "Isnull = train.isnull().sum()/len(train)*100\n",
        "Isnull = Isnull[Isnull>0]\n",
        "Isnull.sort_values(inplace=True, ascending=False)\n",
        "Isnull"
      ],
      "metadata": {
        "id": "S3gQxwX02hfe"
      },
      "execution_count": null,
      "outputs": []
    },
    {
      "cell_type": "code",
      "source": [
        "#Convert into dataframe\n",
        "Isnull = Isnull.to_frame()\n",
        "Isnull.columns = ['count']\n",
        "Isnull.index.names = ['Name']\n",
        "\n",
        "# print(Isnull)\n",
        "Isnull['Name'] = Isnull.index\n",
        "\n",
        "#plot Missing values\n",
        "plt.figure(figsize=(13, 5))\n",
        "sns.set(style='whitegrid')\n",
        "sns.barplot(x='Name', y='count', data=Isnull)\n",
        "plt.xticks(rotation = 90)\n",
        "plt.show()"
      ],
      "metadata": {
        "id": "p5bmEH5H2nEk"
      },
      "execution_count": null,
      "outputs": []
    },
    {
      "cell_type": "code",
      "source": [
        "#Separate variable into new dataframe from original dataframe which has only numerical values\n",
        "#there is 38 numerical attribute from 81 attributes\n",
        "train_corr = train.select_dtypes(include=[np.number])"
      ],
      "metadata": {
        "id": "epscexu93TWW"
      },
      "execution_count": null,
      "outputs": []
    },
    {
      "cell_type": "code",
      "source": [
        "train_corr.shape\n"
      ],
      "metadata": {
        "id": "5uvNW8lD4LsT"
      },
      "execution_count": null,
      "outputs": []
    },
    {
      "cell_type": "code",
      "source": [
        "train_corr = train_corr.drop(columns = 'Id')"
      ],
      "metadata": {
        "id": "hvXQOGFB4b0-"
      },
      "execution_count": null,
      "outputs": []
    },
    {
      "cell_type": "markdown",
      "source": [
        "#### Finding Top Features of the Dataset"
      ],
      "metadata": {
        "id": "Jq6Q0I1R9CeM"
      }
    },
    {
      "cell_type": "code",
      "source": [
        "#Coralation plot\n",
        "corr = train_corr.corr()\n",
        "plt.subplots(figsize=(30,9))\n",
        "sns.heatmap(corr, annot=True)"
      ],
      "metadata": {
        "id": "p6eWDXU54naA"
      },
      "execution_count": null,
      "outputs": []
    },
    {
      "cell_type": "code",
      "source": [
        "thres = (corr['SalePrice'] > 0.5) | (corr['SalePrice'] < -0.5)\n",
        "top_feature = corr.index[abs(thres)]\n",
        "\n",
        "plt.subplots(figsize=(12, 8))\n",
        "top_corr = train[top_feature].corr()\n",
        "sns.heatmap(top_corr, annot=True)\n",
        "plt.show()"
      ],
      "metadata": {
        "id": "tdD-ZUI-4rJ1"
      },
      "execution_count": null,
      "outputs": []
    },
    {
      "cell_type": "code",
      "source": [
        "print(\"Find most important features relative to target\")\n",
        "corr = train.corr()\n",
        "corr.sort_values(['SalePrice'], ascending=False, inplace=True)\n",
        "corr.SalePrice"
      ],
      "metadata": {
        "id": "5VcvZ8jJ4xjj"
      },
      "execution_count": null,
      "outputs": []
    },
    {
      "cell_type": "markdown",
      "source": [
        "#### Handling Missing Values"
      ],
      "metadata": {
        "id": "i0EAAK8P7pLy"
      }
    },
    {
      "cell_type": "code",
      "source": [
        "train['MiscFeature'] = train['MiscFeature'].fillna('None')\n",
        "train['Alley'] = train['Alley'].fillna('None')\n",
        "train['Fence'] = train['Fence'].fillna('None')\n",
        "train['FireplaceQu'] = train['FireplaceQu'].fillna('None')\n",
        "\n",
        "#GarageType, GarageFinish, GarageQual and GarageCond these are replacing with None\n",
        "for col in ['GarageType', 'GarageFinish', 'GarageQual', 'GarageCond']:\n",
        "    train[col] = train[col].fillna('None')\n",
        "\n",
        "#GarageYrBlt, GarageArea and GarageCars these are replacing with zero\n",
        "for col in ['GarageYrBlt', 'GarageArea', 'GarageCars']:\n",
        "    train[col] = train[col].fillna(int(0))\n",
        "\n",
        "#BsmtFinType2, BsmtExposure, BsmtFinType1, BsmtCond, BsmtQual these are replacing with None\n",
        "for col in ('BsmtFinType2', 'BsmtExposure', 'BsmtFinType1', 'BsmtCond', 'BsmtQual'):\n",
        "    train[col] = train[col].fillna('None')\n",
        "\n",
        "train['Electrical'] = train['Electrical'].fillna(train['Electrical']).mode()[0]\n",
        "\n",
        "train['MasVnrArea'] = train['MasVnrArea'].fillna(int(0))\n",
        "\n",
        "train['MasVnrType'] = train['MasVnrType'].fillna('None')\n",
        "\n",
        "train['LotFrontage'] = train['LotFrontage'].fillna(train['LotFrontage'].mean())\n",
        "\n",
        "train = train.drop('PoolQC', axis = 1)"
      ],
      "metadata": {
        "id": "yYZ92Oi-HDVD"
      },
      "execution_count": null,
      "outputs": []
    },
    {
      "cell_type": "code",
      "source": [
        "train.isna().sum()"
      ],
      "metadata": {
        "id": "ihZLjSKc6bwm"
      },
      "execution_count": null,
      "outputs": []
    },
    {
      "cell_type": "markdown",
      "source": [
        "#### Dealing with Categorical Features"
      ],
      "metadata": {
        "id": "n-fS5Z167r8H"
      }
    },
    {
      "cell_type": "code",
      "source": [
        "# Extracting categorical columns:\n",
        "catFeatures= [col for col in train.columns if col in\n",
        "              train.select_dtypes(include=object).columns]\n",
        "\n",
        "from sklearn.preprocessing import LabelEncoder\n",
        "\n",
        "# Encoding Categorical Data\n",
        "labelEncode = LabelEncoder()\n",
        "\n",
        "# Iterating Over each categorial features:\n",
        "for col in catFeatures:\n",
        "    # storing its numerical value:\n",
        "    train[col] = labelEncode.fit_transform(train[col])"
      ],
      "metadata": {
        "id": "GqPfECbTPwZN"
      },
      "execution_count": null,
      "outputs": []
    },
    {
      "cell_type": "markdown",
      "source": [
        "#### Preparing the Data for Modeling"
      ],
      "metadata": {
        "id": "S7SlKSlC84oF"
      }
    },
    {
      "cell_type": "code",
      "source": [
        "y = train['SalePrice']\n",
        "#Take their values in X and y\n",
        "X = train.drop('SalePrice', axis = 1).values\n",
        "y = y.values"
      ],
      "metadata": {
        "id": "nkcPk6dERE71"
      },
      "execution_count": null,
      "outputs": []
    },
    {
      "cell_type": "code",
      "source": [
        "from sklearn.model_selection import train_test_split\n",
        "X_train, X_test, y_train, y_test = train_test_split(X, y, test_size=0.2, random_state=7)"
      ],
      "metadata": {
        "id": "28_dlX-PQ66Z"
      },
      "execution_count": null,
      "outputs": []
    },
    {
      "cell_type": "markdown",
      "source": [
        "### Models\n"
      ],
      "metadata": {
        "id": "nCSEwOG3e2eH"
      }
    },
    {
      "cell_type": "markdown",
      "source": [
        "#### Linear Regression---> Accuracy : 89.6"
      ],
      "metadata": {
        "id": "QhGELKDQ7zQc"
      }
    },
    {
      "cell_type": "code",
      "source": [
        "\n",
        "from sklearn.linear_model import LinearRegression\n",
        "\n",
        "model = LinearRegression()\n",
        "#Fit the model\n",
        "model.fit(X_train, y_train)\n",
        "\n",
        "#Prediction\n",
        "print(\"Predict value \" + str(model.predict([X_test[150]])))\n",
        "print(\"Real value \" + str(y_test[150]))\n"
      ],
      "metadata": {
        "id": "Dyf7DfjESutu"
      },
      "execution_count": null,
      "outputs": []
    },
    {
      "cell_type": "code",
      "source": [
        "#Score/Accuracy\n",
        "print(\"Accuracy --> \", model.score(X_test, y_test)*100)"
      ],
      "metadata": {
        "id": "ad5mqk3qTNOg"
      },
      "execution_count": null,
      "outputs": []
    },
    {
      "cell_type": "markdown",
      "source": [
        "#### Random Forest Regressor---> Accuracy : 89.5"
      ],
      "metadata": {
        "id": "Qf4Xo3Mx73el"
      }
    },
    {
      "cell_type": "code",
      "source": [
        "#Train the model\n",
        "from sklearn.ensemble import RandomForestRegressor\n",
        "model = RandomForestRegressor(n_estimators=1000)\n",
        "#Fit\n",
        "model.fit(X_train, y_train)\n",
        "\n",
        "#Prediction\n",
        "print(\"Predict value \" + str(model.predict([X_test[142]])))\n",
        "print(\"Real value \" + str(y_test[142]))\n",
        "\n",
        "#Score/Accuracy\n",
        "print(\"Accuracy --> \", model.score(X_test, y_test)*100)"
      ],
      "metadata": {
        "id": "qrYVL55xTQ8o"
      },
      "execution_count": null,
      "outputs": []
    },
    {
      "cell_type": "markdown",
      "source": [
        "#### Grading Bosting Regressor ---> Accuracy: 91.8"
      ],
      "metadata": {
        "id": "eBQwUScWetTJ"
      }
    },
    {
      "cell_type": "code",
      "source": [
        "#Train the model\n",
        "from sklearn.ensemble import GradientBoostingRegressor\n",
        "GBR = GradientBoostingRegressor(n_estimators=100, max_depth=4)\n",
        "\n",
        "#Fit\n",
        "GBR.fit(X_train, y_train)\n",
        "\n",
        "#Prediction\n",
        "print(\"Predict value \" + str(model.predict([X_test[142]])))\n",
        "print(\"Real value \" + str(y_test[142]))\n",
        "\n",
        "print(\"Accuracy --> \", GBR.score(X_test, y_test)*100)\n",
        "\n"
      ],
      "metadata": {
        "id": "cRdgDWNjTadF"
      },
      "execution_count": null,
      "outputs": []
    }
  ]
}